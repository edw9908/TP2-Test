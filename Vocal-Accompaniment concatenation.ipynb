{
 "cells": [
  {
   "cell_type": "code",
   "execution_count": 7,
   "metadata": {},
   "outputs": [],
   "source": [
    "import os\n",
    "import numpy as np\n",
    "import wave"
   ]
  },
  {
   "cell_type": "code",
   "execution_count": 8,
   "metadata": {},
   "outputs": [],
   "source": [
    "def read_melody_files(filename):\n",
    "    with open(filename) as f:\n",
    "        _notes = f.read()\n",
    "\n",
    "    _notes = _notes.split(',')\n",
    "    return [float(i) for i in _notes]"
   ]
  },
  {
   "cell_type": "code",
   "execution_count": 9,
   "metadata": {},
   "outputs": [],
   "source": [
    "vocals_path = 'dataset/melodies/strings/vocals/'\n",
    "vocals = os.listdir(vocals_path)\n",
    "\n",
    "accompaniments_path = 'dataset/melodies/strings/accompaniments/'\n",
    "accompaniments = os.listdir(accompaniments_path)\n",
    "\n",
    "results_path = 'dataset/melodies/strings/concatenations/'"
   ]
  },
  {
   "cell_type": "code",
   "execution_count": 10,
   "metadata": {},
   "outputs": [],
   "source": [
    "for vocal in vocals:\n",
    "    for accompaniment in accompaniments:\n",
    "        if vocal == accompaniment:\n",
    "            vocal_string = read_melody_files(vocals_path + vocal)\n",
    "            accompaniment_string = read_melody_files(accompaniments_path + accompaniment)\n",
    "\n",
    "            result = np.zeros(len(vocal_string))\n",
    "            \n",
    "            for i in range(len(vocal_string)):\n",
    "                if vocal_string[i] != 0:\n",
    "                    result[i] = vocal_string[i]\n",
    "                else:\n",
    "                    if accompaniment_string[i] != 0:\n",
    "                        result[i] = accompaniment_string[i]\n",
    "            \n",
    "            with open(results_path + vocal, 'w') as writer:\n",
    "                writer.write(','.join(str(e) for e in result))\n"
   ]
  }
 ],
 "metadata": {
  "kernelspec": {
   "display_name": "Python 3",
   "language": "python",
   "name": "python3"
  },
  "language_info": {
   "codemirror_mode": {
    "name": "ipython",
    "version": 3
   },
   "file_extension": ".py",
   "mimetype": "text/x-python",
   "name": "python",
   "nbconvert_exporter": "python",
   "pygments_lexer": "ipython3",
   "version": "3.7.9"
  }
 },
 "nbformat": 4,
 "nbformat_minor": 4
}
