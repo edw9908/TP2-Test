{
 "cells": [
  {
   "cell_type": "code",
   "execution_count": 11,
   "metadata": {},
   "outputs": [],
   "source": [
    "import librosa\n",
    "import numpy as np\n",
    "import scipy.io\n",
    "import scipy.io.wavfile"
   ]
  },
  {
   "cell_type": "code",
   "execution_count": 8,
   "metadata": {},
   "outputs": [],
   "source": [
    "def write_wav(path, y, sr, norm=False):\n",
    "    \"\"\"Output a time series as a .wav file\n",
    "    Note: only mono or stereo, floating-point data is supported.\n",
    "    .. warning:: This function is deprecated in librosa 0.7.0.\n",
    "        It will be removed in 0.8.  Usage of `write_wav` should\n",
    "        be replaced by `soundfile.write`.\n",
    "    Parameters\n",
    "    ----------\n",
    "    path : str\n",
    "        path to save the output wav file\n",
    "    y : np.ndarray [shape=(n,) or (2,n), dtype=np.float]\n",
    "        audio time series (mono or stereo).\n",
    "        Note that only floating-point values are supported.\n",
    "    sr : int > 0 [scalar]\n",
    "        sampling rate of `y`\n",
    "    norm : boolean [scalar]\n",
    "        enable amplitude normalization.\n",
    "        For floating point `y`, scale the data to the range [-1, +1].\n",
    "    Examples\n",
    "    --------\n",
    "    Trim a signal to 5 seconds and save it back\n",
    "    >>> y, sr = librosa.load(librosa.util.example_audio_file(),\n",
    "    ...                      duration=5.0)\n",
    "    >>> librosa.output.write_wav('file_trim_5s.wav', y, sr)\n",
    "    See Also\n",
    "    --------\n",
    "    soundfile.write\n",
    "    \"\"\"\n",
    "\n",
    "    # Validate the buffer.  Stereo is okay here.\n",
    "    librosa.util.valid_audio(y, mono=False)\n",
    "\n",
    "    # normalize\n",
    "    if norm and np.issubdtype(y.dtype, np.floating):\n",
    "        wav = librosa.util.normalize(y, norm=np.inf, axis=None)\n",
    "    else:\n",
    "        wav = y\n",
    "\n",
    "    # Check for stereo\n",
    "    if wav.ndim > 1 and wav.shape[0] == 2:\n",
    "        wav = wav.T\n",
    "\n",
    "    # Save\n",
    "    scipy.io.wavfile.write(path, sr, wav)"
   ]
  },
  {
   "cell_type": "code",
   "execution_count": 9,
   "metadata": {},
   "outputs": [],
   "source": [
    "y, sr = librosa.load(\"dataset/sources/wavs/Red Hot Chilli Peppers - Can't Stop.wav\")\n",
    "S_full, phase = librosa.magphase(librosa.stft(y))\n",
    "S_filter = librosa.decompose.nn_filter(S_full,\n",
    "                                       aggregate=np.median,\n",
    "                                       metric='cosine',\n",
    "                                       width=int(librosa.time_to_frames(2, sr=sr)))\n",
    "S_filter = np.minimum(S_full, S_filter)\n",
    "margin_i, margin_v = 2, 10\n",
    "power = 2\n",
    "\n",
    "mask_i = librosa.util.softmask(S_filter,\n",
    "                               margin_i * (S_full - S_filter),\n",
    "                               power=power)\n",
    "\n",
    "mask_v = librosa.util.softmask(S_full - S_filter,\n",
    "                               margin_v * S_filter,\n",
    "                               power=power)\n",
    "S_foreground = mask_v * S_full\n",
    "S_background = mask_i * S_full"
   ]
  },
  {
   "cell_type": "code",
   "execution_count": 12,
   "metadata": {},
   "outputs": [],
   "source": [
    "new_y = librosa.istft(S_foreground*phase)\n",
    "write_wav(\"./librosa_test.wav\", new_y, sr)"
   ]
  }
 ],
 "metadata": {
  "kernelspec": {
   "display_name": "Python 3",
   "language": "python",
   "name": "python3"
  },
  "language_info": {
   "codemirror_mode": {
    "name": "ipython",
    "version": 3
   },
   "file_extension": ".py",
   "mimetype": "text/x-python",
   "name": "python",
   "nbconvert_exporter": "python",
   "pygments_lexer": "ipython3",
   "version": "3.8.2"
  }
 },
 "nbformat": 4,
 "nbformat_minor": 4
}
