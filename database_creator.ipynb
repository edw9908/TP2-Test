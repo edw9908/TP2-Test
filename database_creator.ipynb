{
 "cells": [
  {
   "cell_type": "code",
   "execution_count": 9,
   "metadata": {},
   "outputs": [],
   "source": [
    "import os\n",
    "import essentia.standard"
   ]
  },
  {
   "cell_type": "code",
   "execution_count": 10,
   "metadata": {
    "scrolled": false
   },
   "outputs": [],
   "source": [
    "path = 'dataset/results/vocals/'\n",
    "vocals = os.listdir(path)"
   ]
  },
  {
   "cell_type": "code",
   "execution_count": 11,
   "metadata": {},
   "outputs": [],
   "source": [
    "for cancion in vocals:\n",
    "    loader = essentia.standard.EqloudLoader(filename=path + cancion, sampleRate=44100)\n",
    "    audio = loader()\n",
    "    pitch_extractor = essentia.standard.PredominantPitchMelodia(frameSize=2048, hopSize=180)\n",
    "    pitch_values, _ = pitch_extractor(audio)\n",
    "\n",
    "    with open('dataset/melodies/strings/vocals/' + cancion.split('.')[0] + '.txt', 'w') as writer:\n",
    "        writer.write(','.join(str(e) for e in pitch_values))"
   ]
  },
  {
   "cell_type": "code",
   "execution_count": 7,
   "metadata": {},
   "outputs": [],
   "source": [
    "path = 'dataset/results/accompaniments/'\n",
    "accompaniments = os.listdir(path)"
   ]
  },
  {
   "cell_type": "code",
   "execution_count": 8,
   "metadata": {},
   "outputs": [],
   "source": [
    "for cancion in accompaniments:\n",
    "    loader = essentia.standard.EqloudLoader(filename=path + cancion, sampleRate=44100)\n",
    "    audio = loader()\n",
    "    pitch_extractor = essentia.standard.PredominantPitchMelodia(frameSize=2048, hopSize=50)\n",
    "    pitch_values, _ = pitch_extractor(audio)\n",
    "\n",
    "    with open('dataset/melodies/strings/accompaniments/' + cancion.split('.')[0] + '.txt', 'w') as writer:\n",
    "        writer.write(','.join(str(e) for e in pitch_values))"
   ]
  }
 ],
 "metadata": {
  "kernelspec": {
   "display_name": "Python 3",
   "language": "python",
   "name": "python3"
  },
  "language_info": {
   "codemirror_mode": {
    "name": "ipython",
    "version": 3
   },
   "file_extension": ".py",
   "mimetype": "text/x-python",
   "name": "python",
   "nbconvert_exporter": "python",
   "pygments_lexer": "ipython3",
   "version": "3.7.9"
  }
 },
 "nbformat": 4,
 "nbformat_minor": 4
}
