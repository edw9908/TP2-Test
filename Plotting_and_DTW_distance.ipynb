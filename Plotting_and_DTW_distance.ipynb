{
 "cells": [
  {
   "cell_type": "code",
   "execution_count": 15,
   "metadata": {},
   "outputs": [],
   "source": [
    "import essentia.standard\n",
    "import matplotlib.pyplot as plt\n",
    "import numpy as np\n",
    "from dtw import *"
   ]
  },
  {
   "cell_type": "code",
   "execution_count": 16,
   "metadata": {},
   "outputs": [],
   "source": [
    "def get_melody(hum):\n",
    "    loader = essentia.standard.EqloudLoader(filename='hummings/' + hum, sampleRate=44100)\n",
    "    audio = loader()\n",
    "    pitch_extractor = essentia.standard.PredominantPitchMelodia(frameSize=2048, hopSize=128)\n",
    "    pitch_values, pitch_confidence = pitch_extractor(audio)\n",
    "    \n",
    "    return pitch_values"
   ]
  },
  {
   "cell_type": "code",
   "execution_count": 17,
   "metadata": {},
   "outputs": [],
   "source": [
    "def read_melody_files(filename):\n",
    "    with open(filename) as f:\n",
    "        _notes = f.read()\n",
    "\n",
    "    _notes = _notes.split(',')\n",
    "    return [float(i) for i in _notes]"
   ]
  },
  {
   "cell_type": "code",
   "execution_count": 18,
   "metadata": {},
   "outputs": [],
   "source": [
    "def normalize(series, mmin, mmax):\n",
    "    return [((i-mmin)/(mmax-mmin)) for i in series]"
   ]
  },
  {
   "cell_type": "code",
   "execution_count": 19,
   "metadata": {},
   "outputs": [],
   "source": [
    "def calculate_gradient_vector(melody):\n",
    "    _gradients = []\n",
    "\n",
    "    for index, note in enumerate(melody):\n",
    "        if index == 0:\n",
    "            continue\n",
    "\n",
    "        _gradients.append(note - melody[index - 1])\n",
    "\n",
    "    return _gradients"
   ]
  },
  {
   "cell_type": "code",
   "execution_count": 20,
   "metadata": {},
   "outputs": [],
   "source": [
    "def draw_plot(x1, x2):\n",
    "    x1_data = x1\n",
    "    y1_data = range(len(x1_data))\n",
    "    x2_data = x2\n",
    "    y2_data = range(len(x2_data))\n",
    "\n",
    "    fig, ax = plt.subplots(figsize=(20,10))\n",
    "    ax.plot(y1_data, x1_data, label='Song', color='blue')\n",
    "    ax.plot(y2_data, x2_data, label='Humming', color = 'red')\n",
    "    legend = ax.legend(loc='center right', fontsize='x-large')\n",
    "    plt.xlabel('time')\n",
    "    plt.ylabel('frequency')\n",
    "    plt.title('Comparison of the different frequencies')\n",
    "    plt.show()"
   ]
  },
  {
   "cell_type": "code",
   "execution_count": 82,
   "metadata": {},
   "outputs": [],
   "source": [
    "def calculate_dtw(string1, string2):\n",
    "    return dtw(string2, string1, step_pattern=rabinerJuangStepPattern(6, \"c\"), keep_internals=True, open_begin=True, open_end=True).distance"
   ]
  },
  {
   "cell_type": "code",
   "execution_count": 83,
   "metadata": {},
   "outputs": [],
   "source": [
    "def process(song_file, humming_file):\n",
    "    song = read_melody_files(song_file)\n",
    "    humming = get_melody(humming_file)\n",
    "    \n",
    "    print('Comparacion directa de frecuencias')\n",
    "    #draw_plot(song, humming)\n",
    "    \n",
    "    print('Comparacion de frecuencias normalizadas')\n",
    "    mmax = max(max(song), max(humming))\n",
    "    mmin = min(min(song), min(humming))\n",
    "    norm1 = normalize(song, min(song), max(song))\n",
    "    norm2 = normalize(humming, min(humming), max(humming))\n",
    "    #draw_plot(norm1, norm2)\n",
    "    \n",
    "    print('Comparacion de gradientes')\n",
    "    grad1 = calculate_gradient_vector(song)\n",
    "    grad2 = calculate_gradient_vector(humming)\n",
    "    #draw_plot(grad1, grad2)\n",
    "    \n",
    "    print('Comparacion de gradientes de frecuencias normalizadas')\n",
    "    gradnorm1 = calculate_gradient_vector(norm1)\n",
    "    gradnorm2 = calculate_gradient_vector(norm2)\n",
    "    #draw_plot(gradnorm1, gradnorm2)\n",
    "    \n",
    "    print('dtw frecuencias directas:')\n",
    "    print(calculate_dtw(song, humming))\n",
    "    #print('dtw frecuencias normalizadas:')\n",
    "    #print(calculate_dtw(np.array(norm1), np.array(norm2)))\n",
    "    print('dtw gradientes:')\n",
    "    print(calculate_dtw(np.array(grad1), np.array(grad2)))\n",
    "    #print('dtw frecuencias directas:')\n",
    "    #print(calculate_dtw(np.array(gradnorm1), np.array(gradnorm2)))"
   ]
  },
  {
   "cell_type": "code",
   "execution_count": 84,
   "metadata": {
    "scrolled": false
   },
   "outputs": [
    {
     "name": "stdout",
     "output_type": "stream",
     "text": [
      "Comparacion directa de frecuencias\n",
      "Comparacion de frecuencias normalizadas\n",
      "Comparacion de gradientes\n",
      "Comparacion de gradientes de frecuencias normalizadas\n",
      "dtw frecuencias directas:\n",
      "1047947.7914234342\n",
      "dtw gradientes:\n",
      "3847.031846186511\n"
     ]
    }
   ],
   "source": [
    "song = 'strings/rolling_in_the_deep.txt'\n",
    "humming = 'Adele - Rolling In The Deep.wav'\n",
    "\n",
    "process(song, humming)"
   ]
  },
  {
   "cell_type": "code",
   "execution_count": 85,
   "metadata": {
    "scrolled": false
   },
   "outputs": [
    {
     "name": "stdout",
     "output_type": "stream",
     "text": [
      "Comparacion directa de frecuencias\n",
      "Comparacion de frecuencias normalizadas\n",
      "Comparacion de gradientes\n",
      "Comparacion de gradientes de frecuencias normalizadas\n",
      "dtw frecuencias directas:\n",
      "323158.3948189458\n",
      "dtw gradientes:\n",
      "3310.4607563349527\n"
     ]
    }
   ],
   "source": [
    "song = 'strings/counting_stars.txt'\n",
    "humming = 'Adele - Rolling In The Deep.wav'\n",
    "\n",
    "process(song, humming)"
   ]
  }
 ],
 "metadata": {
  "kernelspec": {
   "display_name": "Python 3",
   "language": "python",
   "name": "python3"
  },
  "language_info": {
   "codemirror_mode": {
    "name": "ipython",
    "version": 3
   },
   "file_extension": ".py",
   "mimetype": "text/x-python",
   "name": "python",
   "nbconvert_exporter": "python",
   "pygments_lexer": "ipython3",
   "version": "3.7.9"
  }
 },
 "nbformat": 4,
 "nbformat_minor": 4
}
