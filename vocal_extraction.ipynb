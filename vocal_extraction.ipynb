{
 "cells": [
  {
   "cell_type": "code",
   "execution_count": null,
   "metadata": {},
   "outputs": [],
   "source": [
    "from spleeter.separator import Separator\n",
    "import os"
   ]
  },
  {
   "cell_type": "code",
   "execution_count": null,
   "metadata": {},
   "outputs": [],
   "source": [
    "separator = Separator('spleeter:2stems')"
   ]
  },
  {
   "cell_type": "code",
   "execution_count": null,
   "metadata": {},
   "outputs": [],
   "source": [
    "sources = os.listdir('dataset/sources/wavs')"
   ]
  },
  {
   "cell_type": "code",
   "execution_count": null,
   "metadata": {},
   "outputs": [],
   "source": [
    "for song in sources:\n",
    "    print(song)\n",
    "    separator.separate_to_file('dataset/sources/wavs/' + song, 'dataset/results')"
   ]
  },
  {
   "cell_type": "code",
   "execution_count": null,
   "metadata": {
    "scrolled": false
   },
   "outputs": [],
   "source": [
    "cwd = os.getcwd()\n",
    "\n",
    "for root, subdirs, files in os.walk('dataset/results/'):\n",
    "    separator = root.rfind('/')\n",
    "    songname = root[separator + 1:]\n",
    "\n",
    "    for file in files:\n",
    "        if (file == 'accompaniment.wav'):\n",
    "            source = os.path.join(cwd, root, file)\n",
    "            destination = os.path.join(cwd, 'dataset/results/accompaniments/', songname + '.wav')\n",
    "            os.rename(source, destination)\n",
    "        elif(file == 'vocals.wav'):\n",
    "            source = os.path.join(cwd, root, file)\n",
    "            destination = os.path.join(cwd, 'dataset/results/vocals/', songname + '.wav')\n",
    "            os.rename(source, destination)"
   ]
  }
 ],
 "metadata": {
  "kernelspec": {
   "display_name": "Python 3",
   "language": "python",
   "name": "python3"
  },
  "language_info": {
   "codemirror_mode": {
    "name": "ipython",
    "version": 3
   },
   "file_extension": ".py",
   "mimetype": "text/x-python",
   "name": "python",
   "nbconvert_exporter": "python",
   "pygments_lexer": "ipython3",
   "version": "3.7.9"
  }
 },
 "nbformat": 4,
 "nbformat_minor": 4
}
