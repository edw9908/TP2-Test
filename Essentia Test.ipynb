{
 "cells": [
  {
   "cell_type": "code",
   "execution_count": 1,
   "metadata": {},
   "outputs": [
    {
     "name": "stdout",
     "output_type": "stream",
     "text": [
      "Importing the dtw module. When using in academic works please cite:\n",
      "  T. Giorgino. Computing and Visualizing Dynamic Time Warping Alignments in R: The dtw Package.\n",
      "  J. Stat. Soft., doi:10.18637/jss.v031.i07.\n",
      "\n"
     ]
    }
   ],
   "source": [
    "import essentia\n",
    "import essentia.standard\n",
    "import essentia.streaming\n",
    "import IPython.display as ipd\n",
    "import pretty_midi\n",
    "import matplotlib.pyplot as plt"
   ]
  },
  {
   "cell_type": "code",
   "execution_count": null,
   "metadata": {},
   "outputs": [],
   "source": [
    "import matplotlib.pyplot as plt\n",
    "\n",
    "def processFile(file_name):\n",
    "    mid = pretty_midi.PrettyMIDI(\"dataset/\" + file_name + '.mid')\n",
    "    print(\"Total ticks:\", mid.time_to_tick(mid.get_end_time()))\n",
    "    print(\"Time signatures:\", mid.time_signature_changes)\n",
    "    print(\"Resolution:\", mid.resolution)\n",
    "    # help(pretty_midi.Note)\n",
    "    new_mid = pretty_midi.PrettyMIDI()\n",
    "    new_ch = pretty_midi.Instrument(0)\n",
    "    new_mid_notes = []\n",
    "    avg_data = []\n",
    "\n",
    "    if len(mid.time_signature_changes) == 0:\n",
    "        num = 4\n",
    "        denom = 4\n",
    "    else:\n",
    "        num = mid.time_signature_changes[0].numerator\n",
    "        denom = mid.time_signature_changes[0].denominator\n",
    "\n",
    "    resolution = mid.resolution\n",
    "    ticks_per_note = num * (resolution / (denom / 4))\n",
    "    total_bars = int(mid.time_to_tick(mid.get_end_time()) // ticks_per_note)\n",
    "    defined_values = [1, 2, 4, 8, 16, 32, 3, 6, 12, 24, 48]\n",
    "\n",
    "\n",
    "    def pitch_to_freq(_note):\n",
    "        return 2 ** ((_note - 69) / 12) * 440\n",
    "\n",
    "\n",
    "    for current_channel, instrument in enumerate(mid.instruments):\n",
    "        if instrument.is_drum:\n",
    "            continue\n",
    "\n",
    "        ch = []\n",
    "        avg_data_ch = {}\n",
    "        bar = {}\n",
    "        sum_pitch = 0\n",
    "        sum_dur = 0\n",
    "        current_bar = int(mid.time_to_tick(instrument.notes[0].start) // ticks_per_note)\n",
    "\n",
    "        for index, note in enumerate(instrument.notes):\n",
    "            starting_tick = mid.time_to_tick(note.start)\n",
    "            nro_bar = int(starting_tick // ticks_per_note)\n",
    "\n",
    "            if nro_bar != current_bar:\n",
    "                notes_per_bar = len(bar.keys())\n",
    "                avg_data_ch[current_bar] = (sum_pitch / notes_per_bar, sum_dur / notes_per_bar)\n",
    "                ch.append(bar)\n",
    "                bar = {}\n",
    "                current_bar = nro_bar\n",
    "                sum_pitch = sum_dur = 0\n",
    "\n",
    "            if starting_tick not in bar.keys():\n",
    "                # We substract 12 pitch levels if\n",
    "                # the note belongs to a different clef\n",
    "                sum_pitch += note.pitch if note.pitch < 60 else (note.pitch - 13)\n",
    "                sum_dur += note.get_duration()\n",
    "                bar[starting_tick] = (\n",
    "                    note.pitch, current_channel, nro_bar, mid.time_to_tick(note.end), mid.time_to_tick(note.duration), note.velocity)\n",
    "            else:\n",
    "                # If the current note overlaps with a previous one\n",
    "                # (they play at the same time/tick)\n",
    "                # we will keep the one with the highest pitch\n",
    "                if note.pitch > bar[starting_tick][0]:\n",
    "                    old_note_pitch = bar[mid.time_to_tick(note.start)][0]\n",
    "\n",
    "                    sum_pitch -= old_note_pitch if old_note_pitch else (old_note_pitch - 13)\n",
    "                    sum_dur -= mid.tick_to_time(bar[starting_tick][4])\n",
    "\n",
    "                    sum_pitch += note.pitch if note.pitch < 60 else (note.pitch - 13)\n",
    "                    sum_dur += note.get_duration()\n",
    "\n",
    "                    bar[starting_tick] = (\n",
    "                        note.pitch, current_channel, nro_bar, mid.time_to_tick(note.end), mid.time_to_tick(note.duration), note.velocity)\n",
    "\n",
    "        notes_per_bar = len(bar.keys())\n",
    "        avg_data_ch[current_bar] = (sum_pitch / notes_per_bar, sum_dur / notes_per_bar)\n",
    "        ch.append(bar)\n",
    "\n",
    "        new_mid_notes.append(ch)\n",
    "        avg_data.append(avg_data_ch)\n",
    "\n",
    "    print(\"================================================================\")\n",
    "\n",
    "    melody_route = {}\n",
    "\n",
    "    # For each instant of time, get\n",
    "    # the bar with the highest pitch\n",
    "    for i in range(0, total_bars):\n",
    "        selected_channel = (-1, -1)\n",
    "\n",
    "        for index, channel in enumerate(avg_data):\n",
    "            if i in channel.keys():\n",
    "                bar_avg_pitch = channel[i][0]\n",
    "\n",
    "                if bar_avg_pitch > selected_channel[1]:\n",
    "                    selected_channel = (index, bar_avg_pitch)\n",
    "\n",
    "        melody_route[i] = selected_channel[0]\n",
    "\n",
    "    visualization = []\n",
    "    vis_pitch = []\n",
    "    vis_ticks = []\n",
    "\n",
    "    for bar_index, selected_channel in melody_route.items():\n",
    "        if selected_channel == -1:\n",
    "            continue\n",
    "\n",
    "        for original_channel in new_mid_notes[selected_channel]:\n",
    "            channel_keys = list(original_channel.keys())\n",
    "            first_key = channel_keys[0]\n",
    "\n",
    "            if bar_index == original_channel[first_key][2]:\n",
    "                for tiempo in original_channel:\n",
    "                    note = pretty_midi.Note(velocity=original_channel[tiempo][5], pitch=original_channel[tiempo][0],\n",
    "                                            start=mid.tick_to_time(tiempo), end=mid.tick_to_time(original_channel[tiempo][3]))\n",
    "                    new_ch.notes.append(note)\n",
    "                    vis_pitch.append(original_channel[tiempo][0])\n",
    "                    vis_ticks.append(mid.tick_to_time(tiempo))\n",
    "\n",
    "                break\n",
    "\n",
    "    visualization += [vis_ticks, vis_pitch]\n",
    "\n",
    "    new_mid.instruments.append(new_ch)\n",
    "    new_mid.write('mth2.mid')\n",
    "    \n",
    "    return vis_pitch"
   ]
  },
  {
   "cell_type": "code",
   "execution_count": null,
   "metadata": {},
   "outputs": [],
   "source": [
    "loader = essentia.standard.EqloudLoader(filename='all_star.wav', sampleRate=44100)\n",
    "audio = loader()\n",
    "pitch_extractor = essentia.standard.PredominantPitchMelodia()\n",
    "pitch_values, pitch_confidence = pitch_extractor(audio)\n",
    "contour_extractor = essentia.standard.PitchContourSegmentation()\n",
    "onset, duration, MIDI_pitch = contour_extractor(pitch_values, audio)"
   ]
  },
  {
   "cell_type": "code",
   "execution_count": null,
   "metadata": {},
   "outputs": [],
   "source": [
    "new_mid = pretty_midi.PrettyMIDI()\n",
    "new_ch = pretty_midi.Instrument(0)\n",
    "s=0\n",
    "for x in range(0, len(MIDI_pitch)):\n",
    "    note = pretty_midi.Note(pitch=int(MIDI_pitch[x]), velocity=100, start=onset[x], end=onset[x]+duration[x])\n",
    "    new_ch.notes.append(note)\n",
    "    s+=0.2\n",
    "new_mid.instruments.append(new_ch)\n",
    "new_mid.write('mth1.mid')"
   ]
  },
  {
   "cell_type": "code",
   "execution_count": null,
   "metadata": {},
   "outputs": [],
   "source": [
    "loader2 = essentia.standard.EqloudLoader(filename='yo.wav', sampleRate=44100)\n",
    "audio2 = loader2()\n",
    "pitch_extractor2 = essentia.standard.PredominantPitchMelodia(frameSize=2048, hopSize=128)\n",
    "pitch_values2, pitch_confidence2 = pitch_extractor2(audio2)\n",
    "contour_extractor2 = essentia.standard.PitchContourSegmentation()\n",
    "onset2, duration2, MIDI_pitch2 = contour_extractor2(pitch_values2, audio2)"
   ]
  },
  {
   "cell_type": "code",
   "execution_count": null,
   "metadata": {},
   "outputs": [],
   "source": [
    "times1=[]\n",
    "notes1=[]\n",
    "for i, x in enumerate(MIDI_pitch):\n",
    "    times1.append(i)\n",
    "    notes1.append(int(x))\n",
    "    \n",
    "times2=[]\n",
    "notes2=[]\n",
    "for i, x in enumerate(MIDI_pitch2):\n",
    "    times2.append(i)\n",
    "    notes2.append(int(x))\n",
    "\n",
    "plot1 = [times1, notes1]\n",
    "plot2 = [times2, notes2]\n",
    "\n",
    "plt.plot(*plot1, *plot2)\n",
    "plt.show()"
   ]
  },
  {
   "cell_type": "code",
   "execution_count": null,
   "metadata": {},
   "outputs": [],
   "source": [
    "MIDI_cutted_mth1 = MIDI_pitch[0:len(MIDI_pitch2)]\n",
    "alignment = dtw(MIDI_pitch2, MIDI_cutted_mth1, keep_internals=True)"
   ]
  },
  {
   "cell_type": "code",
   "execution_count": null,
   "metadata": {},
   "outputs": [],
   "source": [
    "alignment.plot(type=\"threeway\")"
   ]
  },
  {
   "cell_type": "code",
   "execution_count": null,
   "metadata": {},
   "outputs": [],
   "source": [
    "alignment.distance"
   ]
  },
  {
   "cell_type": "code",
   "execution_count": null,
   "metadata": {},
   "outputs": [],
   "source": [
    "import pretty_midi\n",
    "import IPython.display as ipd\n",
    "first_file_name = 'all_star'\n",
    "mth2 = processFile(first_file_name)\n",
    "MIDI_cutted_mth2 = mth2[0:len(MIDI_pitch2)]"
   ]
  },
  {
   "cell_type": "code",
   "execution_count": null,
   "metadata": {},
   "outputs": [],
   "source": [
    "alignment2 = dtw(MIDI_pitch2, MIDI_cutted_mth2, keep_internals=True)"
   ]
  },
  {
   "cell_type": "code",
   "execution_count": null,
   "metadata": {},
   "outputs": [],
   "source": [
    "alignment2.plot(type=\"threeway\")"
   ]
  },
  {
   "cell_type": "code",
   "execution_count": null,
   "metadata": {},
   "outputs": [],
   "source": [
    "alignment2.distance"
   ]
  }
 ],
 "metadata": {
  "kernelspec": {
   "display_name": "Python 3",
   "language": "python",
   "name": "python3"
  },
  "language_info": {
   "codemirror_mode": {
    "name": "ipython",
    "version": 3
   },
   "file_extension": ".py",
   "mimetype": "text/x-python",
   "name": "python",
   "nbconvert_exporter": "python",
   "pygments_lexer": "ipython3",
   "version": "3.7.9"
  }
 },
 "nbformat": 4,
 "nbformat_minor": 4
}
