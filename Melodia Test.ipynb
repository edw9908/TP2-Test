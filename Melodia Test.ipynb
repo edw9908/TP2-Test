{
 "cells": [
  {
   "cell_type": "code",
   "execution_count": 1,
   "metadata": {
    "scrolled": false
   },
   "outputs": [
    {
     "ename": "ModuleNotFoundError",
     "evalue": "No module named 'vamp'",
     "output_type": "error",
     "traceback": [
      "\u001b[0;31m---------------------------------------------------------------------------\u001b[0m",
      "\u001b[0;31mModuleNotFoundError\u001b[0m                       Traceback (most recent call last)",
      "\u001b[0;32m<ipython-input-1-a72832d24232>\u001b[0m in \u001b[0;36m<module>\u001b[0;34m\u001b[0m\n\u001b[0;32m----> 1\u001b[0;31m \u001b[0;32mimport\u001b[0m \u001b[0mvamp\u001b[0m\u001b[0;34m\u001b[0m\u001b[0;34m\u001b[0m\u001b[0m\n\u001b[0m\u001b[1;32m      2\u001b[0m \u001b[0;32mimport\u001b[0m \u001b[0mlibrosa\u001b[0m\u001b[0;34m\u001b[0m\u001b[0;34m\u001b[0m\u001b[0m\n\u001b[1;32m      3\u001b[0m \u001b[0;32mimport\u001b[0m \u001b[0mnumpy\u001b[0m \u001b[0;32mas\u001b[0m \u001b[0mnp\u001b[0m\u001b[0;34m\u001b[0m\u001b[0;34m\u001b[0m\u001b[0m\n\u001b[1;32m      4\u001b[0m \u001b[0;32mimport\u001b[0m \u001b[0mwave\u001b[0m\u001b[0;34m\u001b[0m\u001b[0;34m\u001b[0m\u001b[0m\n\u001b[1;32m      5\u001b[0m \u001b[0;32mfrom\u001b[0m \u001b[0m__future__\u001b[0m \u001b[0;32mimport\u001b[0m \u001b[0mprint_function\u001b[0m\u001b[0;34m\u001b[0m\u001b[0;34m\u001b[0m\u001b[0m\n",
      "\u001b[0;31mModuleNotFoundError\u001b[0m: No module named 'vamp'"
     ]
    }
   ],
   "source": [
    "import vamp\n",
    "import librosa\n",
    "import numpy as np\n",
    "import wave\n",
    "from __future__ import print_function\n",
    "#from fastdtw import fastdtw\n",
    "from scipy.spatial.distance import euclidean"
   ]
  },
  {
   "cell_type": "code",
   "execution_count": 3,
   "metadata": {},
   "outputs": [],
   "source": [
    "def wavwrite(x, filename, fs=44100, N=16):\n",
    "    \n",
    "    maxVol = 2**15-1.0 # maximum amplitude\n",
    "    x = x * maxVol # scale x\n",
    "    # convert x to string format expected by wave\n",
    "    signal = b\"\".join((wave.struct.pack('h', int(item)) for item in x))\n",
    "    wv = wave.open(filename, 'w')\n",
    "    nchannels = 1\n",
    "    sampwidth = int(N / 8) # in bytes\n",
    "    framerate = fs\n",
    "    nframe = 0 # no limit\n",
    "    comptype = 'NONE'\n",
    "    compname = 'not compressed'\n",
    "    wv.setparams((nchannels, sampwidth, framerate, nframe, comptype, compname))\n",
    "    wv.writeframes(signal)\n",
    "    wv.close()"
   ]
  },
  {
   "cell_type": "code",
   "execution_count": 4,
   "metadata": {},
   "outputs": [],
   "source": [
    "def melosynth(melody, timestamps, outputfile, fs, nHarmonics, square, useneg):\n",
    "    \n",
    "    # Preprocess input parameters\n",
    "    fs = int(float(fs))\n",
    "    nHarmonics = int(nHarmonics)\n",
    "    if outputfile is None:\n",
    "        outputfile = \"melosynth.wav\"\n",
    "    else:\n",
    "        outputfile = outputfile + \"_melosynth.wav\"\n",
    "\n",
    "    # Load pitch sequence\n",
    "    times = timestamps\n",
    "    freqs = melody\n",
    "\n",
    "    # Preprocess pitch sequence\n",
    "    if useneg:\n",
    "        freqs = np.abs(freqs)\n",
    "    else:\n",
    "        freqs[freqs < 0] = 0\n",
    "    # Impute silence if start time > 0\n",
    "    if times[0] > 0:\n",
    "        estimated_hop = np.median(np.diff(times))\n",
    "        prev_time = max(times[0] - estimated_hop, 0)\n",
    "        times = np.insert(times, 0, prev_time)\n",
    "        freqs = np.insert(freqs, 0, 0)\n",
    "\n",
    "    signal = []\n",
    "\n",
    "    translen = 0.010 # duration (in seconds) for fade in/out and freq interp\n",
    "    phase = np.zeros(nHarmonics) # start phase for all harmonics\n",
    "    f_prev = 0 # previous frequency\n",
    "    t_prev = 0 # previous timestamp\n",
    "    for t, f in zip(times, freqs):\n",
    "\n",
    "        # Compute number of samples to synthesize\n",
    "        nsamples = int(np.round((t - t_prev) * fs))\n",
    "\n",
    "        if nsamples > 0:\n",
    "            # calculate transition length (in samples)\n",
    "            translen_sm = float(min(np.round(translen*fs), nsamples))\n",
    "\n",
    "            # Generate frequency series\n",
    "            freq_series = np.ones(nsamples) * f_prev\n",
    "\n",
    "            # Interpolate between non-zero frequencies\n",
    "            if f_prev > 0 and f > 0:\n",
    "                freq_series += np.minimum(np.arange(nsamples)/translen_sm, 1) *\\\n",
    "                               (f - f_prev)\n",
    "            elif f > 0:\n",
    "                freq_series = np.ones(nsamples) * f\n",
    "\n",
    "            # Repeat for each harmonic\n",
    "            samples = np.zeros(nsamples)\n",
    "            for h in range(nHarmonics):\n",
    "                # Determine harmonic num (h+1 for sawtooth, 2h+1 for square)\n",
    "                hnum = 2*h+1 if square else h+1\n",
    "                # Compute the phase of each sample\n",
    "                phasors = 2 * np.pi * (hnum) * freq_series / float(fs)\n",
    "                phases = phase[h] + np.cumsum(phasors)\n",
    "                # Compute sample values and add\n",
    "                samples += np.sin(phases) / (hnum)\n",
    "                # Update phase\n",
    "                phase[h] = phases[-1]\n",
    "\n",
    "            # Fade in/out and silence\n",
    "            if f_prev == 0 and f > 0:\n",
    "                samples *= np.minimum(np.arange(nsamples)/translen_sm, 1)\n",
    "            if f_prev > 0 and f == 0:\n",
    "                samples *= np.maximum(1 - (np.arange(nsamples)/translen_sm), 0)\n",
    "            if f_prev == 0 and f == 0:\n",
    "                samples *= 0\n",
    "\n",
    "            # Append samples\n",
    "            signal.extend(samples)\n",
    "\n",
    "        t_prev = t\n",
    "        f_prev = f\n",
    "\n",
    "    # Normalize signal\n",
    "    signal = np.asarray(signal)\n",
    "    signal *= 0.8 / float(np.max(signal))\n",
    "\n",
    "    wavwrite(np.asarray(signal), outputfile, fs)"
   ]
  },
  {
   "cell_type": "code",
   "execution_count": 5,
   "metadata": {},
   "outputs": [],
   "source": [
    "audio_file = 'all_star.wav'"
   ]
  },
  {
   "cell_type": "code",
   "execution_count": 6,
   "metadata": {},
   "outputs": [],
   "source": [
    "audio, sr = librosa.load(audio_file, sr=44100, mono=True)"
   ]
  },
  {
   "cell_type": "code",
   "execution_count": 7,
   "metadata": {},
   "outputs": [],
   "source": [
    "data_noparams = vamp.collect(audio, sr, \"mtg-melodia:melodia\")"
   ]
  },
  {
   "cell_type": "code",
   "execution_count": 7,
   "metadata": {},
   "outputs": [
    {
     "data": {
      "text/plain": [
       "array([-220., -220., -220., ..., -220., -220., -220.], dtype=float32)"
      ]
     },
     "execution_count": 7,
     "metadata": {},
     "output_type": "execute_result"
    }
   ],
   "source": [
    "hop_nopar, melody_nopar = data_noparams['vector']\n",
    "melody_nopar"
   ]
  },
  {
   "cell_type": "code",
   "execution_count": 8,
   "metadata": {},
   "outputs": [
    {
     "data": {
      "text/plain": [
       "array([2.32199546e-02, 2.61224490e-02, 2.90249433e-02, ...,\n",
       "       2.03197823e+02, 2.03200726e+02, 2.03203628e+02])"
      ]
     },
     "execution_count": 8,
     "metadata": {},
     "output_type": "execute_result"
    }
   ],
   "source": [
    "timestamps_nopar = 8 * 128/44100.0 + np.arange(len(melody_nopar)) * (128/44100.0)\n",
    "timestamps_nopar"
   ]
  },
  {
   "cell_type": "code",
   "execution_count": 9,
   "metadata": {},
   "outputs": [],
   "source": [
    "melosynth(melody_nopar, timestamps_nopar, 'original', 16000, 1, False, False)"
   ]
  },
  {
   "cell_type": "code",
   "execution_count": 9,
   "metadata": {},
   "outputs": [],
   "source": [
    "audio_file2 = 'yo.wav'"
   ]
  },
  {
   "cell_type": "code",
   "execution_count": 10,
   "metadata": {},
   "outputs": [],
   "source": [
    "audio2, sr2 = librosa.load(audio_file2, sr=44100, mono=True)"
   ]
  },
  {
   "cell_type": "code",
   "execution_count": 11,
   "metadata": {},
   "outputs": [],
   "source": [
    "data_noparams2 = vamp.collect(audio2, sr2, \"mtg-melodia:melodia\")"
   ]
  },
  {
   "cell_type": "code",
   "execution_count": 12,
   "metadata": {},
   "outputs": [
    {
     "data": {
      "text/plain": [
       "array([-110., -110., -110., ..., -110., -110., -110.], dtype=float32)"
      ]
     },
     "execution_count": 12,
     "metadata": {},
     "output_type": "execute_result"
    }
   ],
   "source": [
    "hop_nopar2, melody_nopar2 = data_noparams2['vector']\n",
    "melody_nopar2"
   ]
  },
  {
   "cell_type": "code",
   "execution_count": 14,
   "metadata": {},
   "outputs": [
    {
     "data": {
      "text/plain": [
       "array([ 0.02321995,  0.02612245,  0.02902494, ..., 14.92172336,\n",
       "       14.92462585, 14.92752834])"
      ]
     },
     "execution_count": 14,
     "metadata": {},
     "output_type": "execute_result"
    }
   ],
   "source": [
    "timestamps_nopar2 = 8 * 128/44100.0 + np.arange(len(melody_nopar2)) * (128/44100.0)\n",
    "timestamps_nopar2"
   ]
  },
  {
   "cell_type": "code",
   "execution_count": 15,
   "metadata": {},
   "outputs": [],
   "source": [
    "melosynth(melody_nopar2, timestamps_nopar2, 'hum', 16000, 1, False, False)"
   ]
  },
  {
   "cell_type": "code",
   "execution_count": 13,
   "metadata": {},
   "outputs": [],
   "source": [
    "distance, path = fastdtw(melody_nopar2, melody_nopar, dist=euclidean)"
   ]
  },
  {
   "cell_type": "code",
   "execution_count": 14,
   "metadata": {},
   "outputs": [
    {
     "data": {
      "text/plain": [
       "18206396.885017395"
      ]
     },
     "execution_count": 14,
     "metadata": {},
     "output_type": "execute_result"
    }
   ],
   "source": [
    "distance"
   ]
  },
  {
   "cell_type": "code",
   "execution_count": 15,
   "metadata": {},
   "outputs": [],
   "source": [
    "audio_file3 = 'cant_stop.wav'\n",
    "audio3, sr3 = librosa.load(audio_file3, sr=44100, mono=True)\n",
    "data_noparams3 = vamp.collect(audio3, sr3, \"mtg-melodia:melodia\")\n",
    "hop_nopar3, melody_nopar3 = data_noparams3['vector']"
   ]
  },
  {
   "cell_type": "code",
   "execution_count": 16,
   "metadata": {},
   "outputs": [
    {
     "data": {
      "text/plain": [
       "31572157.43793869"
      ]
     },
     "execution_count": 16,
     "metadata": {},
     "output_type": "execute_result"
    }
   ],
   "source": [
    "distance2, path2 = fastdtw(melody_nopar2, melody_nopar3, dist=euclidean)\n",
    "distance2"
   ]
  },
  {
   "cell_type": "code",
   "execution_count": 17,
   "metadata": {},
   "outputs": [],
   "source": [
    "audio_file4 = 'portugal.wav'\n",
    "audio4, sr4 = librosa.load(audio_file4, sr=44100, mono=True)\n",
    "data_noparams4 = vamp.collect(audio4, sr4, \"mtg-melodia:melodia\")\n",
    "hop_nopar4, melody_nopar4 = data_noparams4['vector']"
   ]
  },
  {
   "cell_type": "code",
   "execution_count": 18,
   "metadata": {},
   "outputs": [
    {
     "data": {
      "text/plain": [
       "20057704.570510864"
      ]
     },
     "execution_count": 18,
     "metadata": {},
     "output_type": "execute_result"
    }
   ],
   "source": [
    "distance3, path3 = fastdtw(melody_nopar2, melody_nopar4, dist=euclidean)\n",
    "distance3"
   ]
  }
 ],
 "metadata": {
  "kernelspec": {
   "display_name": "Python 3",
   "language": "python",
   "name": "python3"
  },
  "language_info": {
   "codemirror_mode": {
    "name": "ipython",
    "version": 3
   },
   "file_extension": ".py",
   "mimetype": "text/x-python",
   "name": "python",
   "nbconvert_exporter": "python",
   "pygments_lexer": "ipython3",
   "version": "3.7.9"
  }
 },
 "nbformat": 4,
 "nbformat_minor": 4
}
